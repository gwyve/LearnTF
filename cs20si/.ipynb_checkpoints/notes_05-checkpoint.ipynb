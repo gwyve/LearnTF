{
 "cells": [
  {
   "cell_type": "markdown",
   "metadata": {
    "collapsed": true
   },
   "source": [
    "## 第五课\n",
    "\n",
    "这节课基本都是按照第四课讲写的代码，然后讲的。主要讲了存训练的数据和取用该数据"
   ]
  },
  {
   "cell_type": "markdown",
   "metadata": {},
   "source": [
    "### tf.train.Saver"
   ]
  },
  {
   "cell_type": "code",
   "execution_count": 1,
   "metadata": {
    "collapsed": false
   },
   "outputs": [
    {
     "ename": "SyntaxError",
     "evalue": "EOL while scanning string literal (<ipython-input-1-330583831abf>, line 14)",
     "output_type": "error",
     "traceback": [
      "\u001b[0;36m  File \u001b[0;32m\"<ipython-input-1-330583831abf>\"\u001b[0;36m, line \u001b[0;32m14\u001b[0m\n\u001b[0;31m    saver.save(sess, 'checkpoint_directory/model_\u001b[0m\n\u001b[0m                                                ^\u001b[0m\n\u001b[0;31mSyntaxError\u001b[0m\u001b[0;31m:\u001b[0m EOL while scanning string literal\n"
     ]
    }
   ],
   "source": [
    "tf.train.Saver.save(sess, save_path, global_step=None, latest_filename=None,\n",
    "meta_graph_suffix='meta', write_meta_graph=True, write_state=True)\n",
    "# 这个函数就是把数据存下了的，存下的数据文件名字中会含有步数。\n",
    "\n",
    "# define model\n",
    "# create a saver object\n",
    "saver = tf.train.Saver()\n",
    "# launch a session to compute the graph\n",
    "with tf.Session() as sess:\n",
    "     # actual training loop\n",
    "    for step in range(training_steps):\n",
    "        sess.run([optimizer])\n",
    "        if (step + 1) % 1000==0:\n",
    "            saver.save(sess, 'checkpoint_directory/model_\n",
    "\n",
    "\n",
    "\n",
    "#这个函数会把存下的最新的参数数据拿过来用\n",
    "saver.restore(sess, 'checkpoints/skip-gram-10000')\n"
   ]
  },
  {
   "cell_type": "markdown",
   "metadata": {},
   "source": [
    "### tf.summary"
   ]
  },
  {
   "cell_type": "code",
   "execution_count": 2,
   "metadata": {
    "collapsed": false
   },
   "outputs": [
    {
     "ename": "SyntaxError",
     "evalue": "invalid syntax (<ipython-input-2-dca74c647642>, line 4)",
     "output_type": "error",
     "traceback": [
      "\u001b[0;36m  File \u001b[0;32m\"<ipython-input-2-dca74c647642>\"\u001b[0;36m, line \u001b[0;32m4\u001b[0m\n\u001b[0;31m    tf.summary.scalar(\"accuracy\", self.accuracy)\u001b[0m\n\u001b[0m     ^\u001b[0m\n\u001b[0;31mSyntaxError\u001b[0m\u001b[0;31m:\u001b[0m invalid syntax\n"
     ]
    }
   ],
   "source": [
    "def _create_summaries(self):\n",
    "     with tf.name_scope(\"summaries\"):\n",
    "         tf.summary.scalar(\"loss\", self.loss\n",
    "         tf.summary.scalar(\"accuracy\", self.accuracy)\n",
    "         tf.summary.histogram(\"histogram loss\", self.loss)\n",
    "         # because you have several summaries, we should merge them all\n",
    "         # into one op to make it easier to manage\n",
    "         self.summary_op = tf.summary.merge_all()\n",
    "# 这里定义了summary的内容，因为有多个scalar所以要合并一下\n",
    "    \n",
    "loss_batch, _, summary = sess.run([model.loss, model.optimizer, model.summary_op],feed_dict=feed_dict)    \n",
    "# 注意这里的summary以及 model.summary_op\n",
    "                           \n",
    "writer.add_summary(summary, global_step=step)\n",
    "# 把需要summary的数据写入文件"
   ]
  },
  {
   "cell_type": "markdown",
   "metadata": {},
   "source": [
    "打开tensorboard确实有像notes中写的那样（这不是废话吗）"
   ]
  },
  {
   "cell_type": "markdown",
   "metadata": {},
   "source": [
    "### control randomization\n",
    "\n",
    "作者在这里把随机说的很厉害\n",
    "\n",
    "这里把随机生成分为了两个层次的，一个属于op层，另一个是graph层"
   ]
  },
  {
   "cell_type": "code",
   "execution_count": 4,
   "metadata": {
    "collapsed": false
   },
   "outputs": [
    {
     "ename": "IndentationError",
     "evalue": "unexpected indent (<ipython-input-4-cb0a6a338ef1>, line 13)",
     "output_type": "error",
     "traceback": [
      "\u001b[0;36m  File \u001b[0;32m\"<ipython-input-4-cb0a6a338ef1>\"\u001b[0;36m, line \u001b[0;32m13\u001b[0m\n\u001b[0;31m    with tf.Session() as sess:\u001b[0m\n\u001b[0m    ^\u001b[0m\n\u001b[0;31mIndentationError\u001b[0m\u001b[0;31m:\u001b[0m unexpected indent\n"
     ]
    }
   ],
   "source": [
    "my_var = tf.Variable(tf.truncated_normal((-1.0,1.0), stddev=0.1, seed=0))\n",
    "# 在变量初始化的时候就被赋随机值\n",
    "# 这里这个seed并不是很明白，可以参考 https://www.tensorflow.org/api_docs/python/tf/set_random_seed\n",
    "\n",
    "# 以下是三个例子,例三是op层的，每个op都有自己的seed，所以生成的不同\n",
    "# 1、\n",
    "c = tf.random_uniform([], -10, 10, seed=2)\n",
    "with tf.Session() as sess:\n",
    "    print sess.run(c) # >> 3.57493\n",
    "    print sess.run(c) # >> -5.97319\n",
    "# 2、\n",
    "c = tf.random_uniform([], -10, 10, seed=2)\n",
    "    with tf.Session() as sess:\n",
    "    print sess.run(c) # >> 3.57493\n",
    "with tf.Session() as sess:\n",
    "    print sess.run(c) # >> 3.57493\n",
    "# 3、\n",
    "c = tf.random_uniform([], -10, 10, seed=2)\n",
    "d = tf.random_uniform([], -10, 10, seed=2)\n",
    "with tf.Session() as sess:\n",
    "    print sess.run(c) # >> 3.57493\n",
    "    print sess.run(d) # >> 3.57493\n",
    "    \n",
    "    \n",
    "# grph 层面的东西，比如说有 a.py 和 b.py 内容一样，都是\n",
    "import tensorflow as tf\n",
    "tf.set_random_seed(2)\n",
    "c = tf.random_uniform([], -10, 10)\n",
    "d = tf.random_uniform([], -10, 10)\n",
    "with tf.Session() as sess:\n",
    "    print sess.run(c)\n",
    "    print sess.run(d)\n",
    "# 输出\n",
    "# $ python a.py\n",
    "# >> -4.00752\n",
    "# >> -2.98339\n",
    "# $ python b.py\n",
    "# >> -4.00752\n",
    "# >> -2.98339\n",
    "\n",
    "    \n",
    "# 如果没有 graph层的seed，那么a.py 和 b.py会返回两个不一样的值"
   ]
  },
  {
   "cell_type": "markdown",
   "metadata": {},
   "source": [
    "### Reading Data in Tensorflow\n",
    "\n"
   ]
  },
  {
   "cell_type": "code",
   "execution_count": null,
   "metadata": {
    "collapsed": true
   },
   "outputs": [],
   "source": []
  }
 ],
 "metadata": {
  "kernelspec": {
   "display_name": "Python 2",
   "language": "python",
   "name": "python2"
  },
  "language_info": {
   "codemirror_mode": {
    "name": "ipython",
    "version": 2
   },
   "file_extension": ".py",
   "mimetype": "text/x-python",
   "name": "python",
   "nbconvert_exporter": "python",
   "pygments_lexer": "ipython2",
   "version": "2.7.13"
  }
 },
 "nbformat": 4,
 "nbformat_minor": 2
}
