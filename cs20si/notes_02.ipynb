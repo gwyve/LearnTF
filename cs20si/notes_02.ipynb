{
 "cells": [
  {
   "cell_type": "code",
   "execution_count": 1,
   "metadata": {
    "collapsed": false
   },
   "outputs": [
    {
     "name": "stdout",
     "output_type": "stream",
     "text": [
      "5\n"
     ]
    }
   ],
   "source": [
    "import tensorflow as tf\n",
    "a = tf.constant(2)\n",
    "b = tf.constant(3)\n",
    "x = tf.add(a,b)\n",
    "with tf.Session() as sess:\n",
    "    writer = tf.summary.FileWriter('./graphs',sess.graph)\n",
    "    print sess.run(x)\n",
    "    \n",
    "writer.close()\n",
    "#在终端当前目录下输入 $ tensorboard --logdir=\"./graphs\"\n",
    "#浏览器打开http://localhost:6006/\n",
    "#选择graph可以看到这个结构的图"
   ]
  },
  {
   "cell_type": "code",
   "execution_count": 2,
   "metadata": {
    "collapsed": false
   },
   "outputs": [
    {
     "name": "stdout",
     "output_type": "stream",
     "text": [
      "[5 9]\n"
     ]
    }
   ],
   "source": [
    "import tensorflow as tf\n",
    "a = tf.constant([2,3],name=\"a\")\n",
    "b = tf.constant([3,6],name=\"b\")\n",
    "x = tf.add(a,b,name=\"add\")\n",
    "with tf.Session() as sess:\n",
    "    writer = tf.summary.FileWriter('./graphs',sess.graph)\n",
    "    print sess.run(x)\n",
    "    \n",
    "writer.close()\n",
    "#在终端当前目录下输入 $ tensorboard --logdir=\"./graphs\"\n",
    "#浏览器打开http://localhost:6006/\n",
    "#选择graph可以看到这个结构的图\n",
    "#可以看到三个点被命名了"
   ]
  },
  {
   "cell_type": "markdown",
   "metadata": {},
   "source": [
    "接下来学习恒量 tf.constant"
   ]
  },
  {
   "cell_type": "code",
   "execution_count": 3,
   "metadata": {
    "collapsed": true
   },
   "outputs": [],
   "source": [
    "#constant可以被是标量（scalar）或者张量（tensor）\n",
    "a = tf.constant([2,2],name=\"vector\")\n",
    "b = tf.constant([[1,2],[3,4]],name=\"matrix\")"
   ]
  },
  {
   "cell_type": "code",
   "execution_count": 4,
   "metadata": {
    "collapsed": false
   },
   "outputs": [
    {
     "name": "stdout",
     "output_type": "stream",
     "text": [
      "[[0 0 0]\n",
      " [0 0 0]]\n"
     ]
    }
   ],
   "source": [
    "#创建全0的张量\n",
    "a = tf.zeros([2,3],tf.int32)\n",
    "with tf.Session() as sess:\n",
    "    print sess.run(a)"
   ]
  },
  {
   "cell_type": "code",
   "execution_count": 5,
   "metadata": {
    "collapsed": false
   },
   "outputs": [
    {
     "name": "stdout",
     "output_type": "stream",
     "text": [
      "[[1 1 1]\n",
      " [1 1 1]]\n"
     ]
    }
   ],
   "source": [
    "#创建全1的张量\n",
    "a = tf.ones([2,3],tf.int32)\n",
    "with tf.Session() as sess:\n",
    "    print sess.run(a)"
   ]
  },
  {
   "cell_type": "code",
   "execution_count": 6,
   "metadata": {
    "collapsed": false
   },
   "outputs": [
    {
     "name": "stdout",
     "output_type": "stream",
     "text": [
      "[[1 1 1]\n",
      " [1 1 1]]\n",
      "[[0 0 0]\n",
      " [0 0 0]]\n"
     ]
    }
   ],
   "source": [
    "#按照某个tensor的形状创建一个全1或者全某个数的tensor\n",
    "b = tf.ones_like(a)\n",
    "c = tf.zeros_like(a)\n",
    "with tf.Session() as sess:\n",
    "    print sess.run(b)\n",
    "    print sess.run(c)"
   ]
  },
  {
   "cell_type": "code",
   "execution_count": 7,
   "metadata": {
    "collapsed": false
   },
   "outputs": [
    {
     "name": "stdout",
     "output_type": "stream",
     "text": [
      "[[8 8 8 8 8]\n",
      " [8 8 8 8 8]\n",
      " [8 8 8 8 8]\n",
      " [8 8 8 8 8]]\n"
     ]
    }
   ],
   "source": [
    "#创建一个全是某数的tensor\n",
    "a = tf.fill([4,5],8)\n",
    "with tf.Session() as sess:\n",
    "    print sess.run(a)"
   ]
  },
  {
   "cell_type": "code",
   "execution_count": 8,
   "metadata": {
    "collapsed": false
   },
   "outputs": [
    {
     "name": "stdout",
     "output_type": "stream",
     "text": [
      "[ 10.  11.  12.  13.]\n"
     ]
    }
   ],
   "source": [
    "#创建连续的衡量\n",
    "#tf.linspace(start, stop, num, name=None)\n",
    "a = tf.linspace(10.0, 13.0, 4, name=\"linspace\")\n",
    "with tf.Session() as sess:\n",
    "    print sess.run(a)"
   ]
  },
  {
   "cell_type": "code",
   "execution_count": 9,
   "metadata": {
    "collapsed": false
   },
   "outputs": [
    {
     "name": "stdout",
     "output_type": "stream",
     "text": [
      "[ 3  6  9 12 15]\n",
      "[ 3.          2.5999999   2.19999981  1.79999983  1.39999986]\n",
      "[0 1 2 3 4 5 6 7]\n"
     ]
    }
   ],
   "source": [
    "#创建一个增量是delta的串衡量\n",
    "#tf.range(start,limit=None,delta=1,dtype=None,name='range')\n",
    "a = tf.range(3,18,3)\n",
    "b = tf.range(3,1,-.4)\n",
    "c = tf.range(8)\n",
    "with tf.Session() as sess:\n",
    "    print sess.run(a)\n",
    "    print sess.run(b)\n",
    "    print sess.run(c)"
   ]
  },
  {
   "cell_type": "code",
   "execution_count": null,
   "metadata": {
    "collapsed": true
   },
   "outputs": [],
   "source": [
    "# 这个是在区分numpy与tensorflow中的不同\n",
    "# for _ in np.linspace(0, 10, 4): # OK\n",
    "# for _ in tf.linspace(0, 10, 4): # TypeError(\"'Tensor' object is not iterable.\")\n",
    "# for _ in range(4): # OK\n",
    "# for _ in tf.range(4): # TypeError(\"'Tensor' object is not iterable.\")"
   ]
  },
  {
   "cell_type": "code",
   "execution_count": null,
   "metadata": {
    "collapsed": true
   },
   "outputs": [],
   "source": [
    "# 以下函数生成衡量\n",
    "# tf.random_normal(shape, mean=0.0, stddev=1.0, dtype=tf.float32, seed=None, name=None)\n",
    "# tf.truncated_normal(shape, mean=0.0, stddev=1.0, dtype=tf.float32, seed=None,name=None)\n",
    "# tf.random_uniform(shape, minval=0, maxval=None, dtype=tf.float32, seed=None,name=None)\n",
    "# tf.random_shuffle(value, seed=None, name=None)\n",
    "# tf.random_crop(value, size, seed=None, name=None)\n",
    "# tf.multinomial(logits, num_samples, seed=None, name=None)\n",
    "# tf.random_gamma(shape, alpha, beta=None, dtype=tf.float32, seed=None, name=None)"
   ]
  },
  {
   "cell_type": "code",
   "execution_count": null,
   "metadata": {
    "collapsed": true
   },
   "outputs": [],
   "source": [
    "# 以下为数学计算用的\n",
    "# a = tf.constant([3, 6])\n",
    "# b = tf.constant([2, 2])\n",
    "# tf.add(a, b) # >> [5 8]\n",
    "# tf.add_n([a, b, b]) # >> [7 10]. Equivalent to a + b + b\n",
    "# tf.mul(a, b) # >> [6 12] because mul is element wise\n",
    "# tf.matmul(a, b) # >> ValueError\n",
    "# tf.matmul(tf.reshape(a, shape=[1, 2]), tf.reshape(b, shape=[2, 1])) # >> [[18]]\n",
    "# tf.div(a, b) # >> [1 3]\n",
    "# tf.mod(a, b) # >> [1 0]"
   ]
  },
  {
   "cell_type": "code",
   "execution_count": null,
   "metadata": {
    "collapsed": true
   },
   "outputs": [],
   "source": [
    "# 参照Python类型生成\n",
    "\n",
    "# t_0 = 19 # Treated as a 0-d tensor, or \"scalar\"\n",
    "# tf.zeros_like(t_0) # ==> 0\n",
    "# tf.ones_like(t_0) # ==> 1\n",
    "# t_1 = [b\"apple\", b\"peach\", b\"grape\"] # treated as a 1-d tensor, or \"vector\"\n",
    "# tf.zeros_like(t_1) # ==> ['' '' '']\n",
    "# tf.ones_like(t_1) # ==> TypeError: Expected string, got 1 of type 'int' instead.\n",
    "# t_2 = [[True, False, False],\n",
    "#  [False, False, True],\n",
    "#  [False, True, False]] # treated as a 2-d tensor, or \"matrix\"\n",
    "# tf.zeros_like(t_2) # ==> 2x2 tensor, all elements are False\n",
    "# tf.ones_like(t_2) # ==> 2x2 tensor, all elements are True"
   ]
  },
  {
   "cell_type": "code",
   "execution_count": null,
   "metadata": {
    "collapsed": true
   },
   "outputs": [],
   "source": [
    "# 变量 variable\n",
    "# 使用变量前，要初始化\n",
    "# init = tf.global_variables_initializer()\n",
    "# with tf.Session() as sess:\n",
    "#     tf.run(init)\n",
    "\n",
    "# 也可以指定初始化\n",
    "# init_ab = tf.variables_initializer([a, b], name=\"init_ab\")\n",
    "# with tf.Session() as sess:\n",
    "#     tf.run(init_ab)"
   ]
  },
  {
   "cell_type": "code",
   "execution_count": 10,
   "metadata": {
    "collapsed": false
   },
   "outputs": [
    {
     "name": "stdout",
     "output_type": "stream",
     "text": [
      "10\n",
      "100\n"
     ]
    }
   ],
   "source": [
    "# 给变量赋值操作需要卸载sess.run里执行\n",
    "\n",
    "W = tf.Variable(10)\n",
    "W.assign(100)\n",
    "with tf.Session() as sess:\n",
    "    sess.run(W.initializer)\n",
    "    print W.eval()\n",
    "    \n",
    "W = tf.Variable(10)\n",
    "assign_op = W.assign(100)\n",
    "with tf.Session() as sess:\n",
    "    sess.run(assign_op)\n",
    "    print W.eval() \n",
    "# assign()里面包含了初始化"
   ]
  },
  {
   "cell_type": "code",
   "execution_count": 11,
   "metadata": {
    "collapsed": false
   },
   "outputs": [
    {
     "name": "stdout",
     "output_type": "stream",
     "text": [
      "30.0\n"
     ]
    }
   ],
   "source": [
    "# InteractiveSession\n",
    "# 使用这个，在调用run()和eval()的时候不用调用session\n",
    "sess = tf.InteractiveSession()\n",
    "a = tf.constant(5.0)\n",
    "b = tf.constant(6.0)\n",
    "c = a * b\n",
    "# We can just use 'c.eval()' without passing 'sess'\n",
    "print(c.eval())\n",
    "sess.close()"
   ]
  },
  {
   "cell_type": "code",
   "execution_count": null,
   "metadata": {
    "collapsed": true
   },
   "outputs": [],
   "source": [
    "# 节点依赖，或者执行顺序\n",
    "# your graph g have 5 ops: a, b, c, d, e\n",
    "# with g.control_dependencies([a, b, c]):\n",
    "#  #`d` and `e` will only run after `a`, `b`, and `c` have executed.\n",
    "#  d = ...\n",
    "#  e = …"
   ]
  },
  {
   "cell_type": "code",
   "execution_count": 12,
   "metadata": {
    "collapsed": false
   },
   "outputs": [
    {
     "name": "stdout",
     "output_type": "stream",
     "text": [
      "[ 6.  7.  8.]\n"
     ]
    }
   ],
   "source": [
    "# 占位符（placeholder） \n",
    "\n",
    "# create a placeholder of type float 32-bit, shape is a vector of 3 elements\n",
    "a = tf.placeholder(tf.float32, shape=[3])\n",
    "# create a constant of type float 32-bit, shape is a vector of 3 elements\n",
    "b = tf.constant([5, 5, 5], tf.float32)\n",
    "# use the placeholder as you would a constant or a variable\n",
    "c = a + b # Short for tf.add(a, b)\n",
    "# If we try to fetch c, we will run into error.\n",
    "with tf.Session() as sess:\n",
    "    writer = tf.summary.FileWriter('./my_graph', sess.graph)\n",
    "    print(sess.run(c, {a: [1, 2, 3]}))\n",
    "    "
   ]
  },
  {
   "cell_type": "code",
   "execution_count": null,
   "metadata": {
    "collapsed": true
   },
   "outputs": [],
   "source": []
  }
 ],
 "metadata": {
  "kernelspec": {
   "display_name": "Python 2",
   "language": "python",
   "name": "python2"
  },
  "language_info": {
   "codemirror_mode": {
    "name": "ipython",
    "version": 2
   },
   "file_extension": ".py",
   "mimetype": "text/x-python",
   "name": "python",
   "nbconvert_exporter": "python",
   "pygments_lexer": "ipython2",
   "version": "2.7.13"
  }
 },
 "nbformat": 4,
 "nbformat_minor": 2
}
