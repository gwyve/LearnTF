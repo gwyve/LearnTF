{
 "cells": [
  {
   "cell_type": "markdown",
   "metadata": {
    "collapsed": true
   },
   "source": [
    "## 第六课\n",
    "\n",
    "这一课没有notes，只有slides，我觉得，这个就是类似于cs231n的这么一个课程\n",
    "\n",
    "### cv 任务                             \n",
    "- Object Detection\n",
    "- Object segmentation\n",
    "- Poss Estimation (根据人的动作，或者一个多做图)\n",
    "- Image Captioning\n",
    "- Dense Image Captioning\n",
    "- Visual Question Answering\n",
    "- Image Super-Resolution\n",
    "- Generating Art\n",
    "\n",
    "### 网络结构\n",
    "\n",
    "#### AlexNet\n",
    "Full (simplified) AlexNet architecture:\n",
    "[227x227x3] INPUT\n",
    "[55x55x96] CONV1: 96 11x11 filters at stride 4, pad 0\n",
    "[27x27x96] MAX POOL1: 3x3 filters at stride 2\n",
    "[27x27x96] NORM1: Normalization layer\n",
    "[27x27x256] CONV2: 256 5x5 filters at stride 1, pad 2\n",
    "[13x13x256] MAX POOL2: 3x3 filters at stride 2\n",
    "[13x13x256] NORM2: Normalization layer\n",
    "[13x13x384] CONV3: 384 3x3 filters at stride 1, pad 1\n",
    "[13x13x384] CONV4: 384 3x3 filters at stride 1, pad 1\n",
    "[13x13x256] CONV5: 256 3x3 filters at stride 1, pad 1\n",
    "[6x6x256] MAX POOL3: 3x3 filters at stride 2\n",
    "[4096] FC6: 4096 neurons\n",
    "[4096] FC7: 4096 neurons\n",
    "[1000] FC8: 1000 neurons (class scores)\n",
    "\n",
    "#### VGGNet\n",
    "Only 3x3 CONV stride 1, pad 1\n",
    "and 2x2 MAX POOL stride 2\n",
    "\n",
    "#### GoogLeNet\n",
    "Inception module\n",
    "\n",
    "#### ResNet\n"
   ]
  },
  {
   "cell_type": "code",
   "execution_count": null,
   "metadata": {
    "collapsed": true
   },
   "outputs": [],
   "source": []
  }
 ],
 "metadata": {
  "kernelspec": {
   "display_name": "Python 2",
   "language": "python",
   "name": "python2"
  },
  "language_info": {
   "codemirror_mode": {
    "name": "ipython",
    "version": 2
   },
   "file_extension": ".py",
   "mimetype": "text/x-python",
   "name": "python",
   "nbconvert_exporter": "python",
   "pygments_lexer": "ipython2",
   "version": "2.7.13"
  }
 },
 "nbformat": 4,
 "nbformat_minor": 2
}
