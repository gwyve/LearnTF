{
 "cells": [
  {
   "cell_type": "markdown",
   "metadata": {
    "collapsed": true
   },
   "source": [
    "### 第七课\n",
    "这个是将cnn在tensorflow上使用的方法\n"
   ]
  },
  {
   "cell_type": "code",
   "execution_count": 2,
   "metadata": {
    "collapsed": true
   },
   "outputs": [],
   "source": [
    "\n",
    "# tf.nn.conv2d(input, filter, strides, padding, use_cudnn_on_gpu=None, data_format=None,name=None)\n",
    "\n",
    "# Input: Batch size x Height x Width x Channels\n",
    "# Filter: Height x Width x Input Channels x Output Channels\n",
    "# (e.g. [5, 5, 3, 64])\n",
    "# Strides: 4 element 1-D tensor, strides in each direction\n",
    "# (often [1, 1, 1, 1] or [1, 2, 2, 1])  第一个是strides = 1 第二个 strides = 2  \n",
    "# Padding: 'SAME' or 'VALID'\n",
    "# Data_format: default to NHWC\n"
   ]
  },
  {
   "cell_type": "markdown",
   "metadata": {},
   "source": [
    "这个跟我之前写的那个MNIST的区别就是，他使用了variable scope，这个使得代码规整，在图上也显示的很好"
   ]
  },
  {
   "cell_type": "code",
   "execution_count": null,
   "metadata": {
    "collapsed": true
   },
   "outputs": [],
   "source": []
  }
 ],
 "metadata": {
  "kernelspec": {
   "display_name": "Python 2",
   "language": "python",
   "name": "python2"
  },
  "language_info": {
   "codemirror_mode": {
    "name": "ipython",
    "version": 2
   },
   "file_extension": ".py",
   "mimetype": "text/x-python",
   "name": "python",
   "nbconvert_exporter": "python",
   "pygments_lexer": "ipython2",
   "version": "2.7.13"
  }
 },
 "nbformat": 4,
 "nbformat_minor": 2
}
